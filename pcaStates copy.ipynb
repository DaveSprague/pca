{
 "cells": [
  {
   "cell_type": "code",
   "execution_count": 1,
   "metadata": {},
   "outputs": [],
   "source": [
    "from sklearn.decomposition import PCA\n",
    "from sklearn.preprocessing import StandardScaler\n",
    "from sklearn.model_selection import train_test_split\n",
    "import pandas as pd\n",
    "from sklearn.linear_model import LogisticRegression\n",
    "from sklearn.metrics import accuracy_score\n",
    "import matplotlib.pyplot as plt\n",
    "\n"
   ]
  },
  {
   "cell_type": "code",
   "execution_count": 2,
   "metadata": {},
   "outputs": [],
   "source": [
    "df = pd.read_excel('ProblemCData.xlsx')\n"
   ]
  },
  {
   "cell_type": "code",
   "execution_count": 3,
   "metadata": {},
   "outputs": [
    {
     "data": {
      "text/html": [
       "<div>\n",
       "<style scoped>\n",
       "    .dataframe tbody tr th:only-of-type {\n",
       "        vertical-align: middle;\n",
       "    }\n",
       "\n",
       "    .dataframe tbody tr th {\n",
       "        vertical-align: top;\n",
       "    }\n",
       "\n",
       "    .dataframe thead th {\n",
       "        text-align: right;\n",
       "    }\n",
       "</style>\n",
       "<table border=\"1\" class=\"dataframe\">\n",
       "  <thead>\n",
       "    <tr style=\"text-align: right;\">\n",
       "      <th></th>\n",
       "      <th>MSN</th>\n",
       "      <th>StateCode</th>\n",
       "      <th>Year</th>\n",
       "      <th>Data</th>\n",
       "    </tr>\n",
       "  </thead>\n",
       "  <tbody>\n",
       "    <tr>\n",
       "      <th>0</th>\n",
       "      <td>ABICB</td>\n",
       "      <td>AZ</td>\n",
       "      <td>1960</td>\n",
       "      <td>0.0</td>\n",
       "    </tr>\n",
       "    <tr>\n",
       "      <th>1</th>\n",
       "      <td>ABICB</td>\n",
       "      <td>AZ</td>\n",
       "      <td>1961</td>\n",
       "      <td>0.0</td>\n",
       "    </tr>\n",
       "    <tr>\n",
       "      <th>2</th>\n",
       "      <td>ABICB</td>\n",
       "      <td>AZ</td>\n",
       "      <td>1962</td>\n",
       "      <td>0.0</td>\n",
       "    </tr>\n",
       "    <tr>\n",
       "      <th>3</th>\n",
       "      <td>ABICB</td>\n",
       "      <td>AZ</td>\n",
       "      <td>1963</td>\n",
       "      <td>0.0</td>\n",
       "    </tr>\n",
       "    <tr>\n",
       "      <th>4</th>\n",
       "      <td>ABICB</td>\n",
       "      <td>AZ</td>\n",
       "      <td>1964</td>\n",
       "      <td>0.0</td>\n",
       "    </tr>\n",
       "  </tbody>\n",
       "</table>\n",
       "</div>"
      ],
      "text/plain": [
       "     MSN StateCode  Year  Data\n",
       "0  ABICB        AZ  1960   0.0\n",
       "1  ABICB        AZ  1961   0.0\n",
       "2  ABICB        AZ  1962   0.0\n",
       "3  ABICB        AZ  1963   0.0\n",
       "4  ABICB        AZ  1964   0.0"
      ]
     },
     "execution_count": 3,
     "metadata": {},
     "output_type": "execute_result"
    }
   ],
   "source": [
    "df.head()"
   ]
  },
  {
   "cell_type": "markdown",
   "metadata": {},
   "source": []
  },
  {
   "cell_type": "code",
   "execution_count": 4,
   "metadata": {},
   "outputs": [
    {
     "data": {
      "text/plain": [
       "<bound method DataFrame.info of           MSN StateCode  Year          Data\n",
       "0       ABICB        AZ  1960       0.00000\n",
       "1       ABICB        AZ  1961       0.00000\n",
       "2       ABICB        AZ  1962       0.00000\n",
       "3       ABICB        AZ  1963       0.00000\n",
       "4       ABICB        AZ  1964       0.00000\n",
       "...       ...       ...   ...           ...\n",
       "105739  WYTCB        TX  2005   42367.85279\n",
       "105740  WYTCB        TX  2006   66164.83829\n",
       "105741  WYTCB        TX  2007   89019.08957\n",
       "105742  WYTCB        TX  2008  159881.36380\n",
       "105743  WYTCB        TX  2009  195454.76530\n",
       "\n",
       "[105744 rows x 4 columns]>"
      ]
     },
     "execution_count": 4,
     "metadata": {},
     "output_type": "execute_result"
    }
   ],
   "source": [
    "df.info"
   ]
  },
  {
   "cell_type": "code",
   "execution_count": 5,
   "metadata": {},
   "outputs": [],
   "source": [
    "dfp = df.pivot(index=['StateCode', \"Year\"], columns='MSN', values='Data')"
   ]
  },
  {
   "cell_type": "code",
   "execution_count": 6,
   "metadata": {},
   "outputs": [
    {
     "data": {
      "text/html": [
       "<div>\n",
       "<style scoped>\n",
       "    .dataframe tbody tr th:only-of-type {\n",
       "        vertical-align: middle;\n",
       "    }\n",
       "\n",
       "    .dataframe tbody tr th {\n",
       "        vertical-align: top;\n",
       "    }\n",
       "\n",
       "    .dataframe thead th {\n",
       "        text-align: right;\n",
       "    }\n",
       "</style>\n",
       "<table border=\"1\" class=\"dataframe\">\n",
       "  <thead>\n",
       "    <tr style=\"text-align: right;\">\n",
       "      <th></th>\n",
       "      <th>MSN</th>\n",
       "      <th>ABICB</th>\n",
       "      <th>ABICP</th>\n",
       "      <th>ARICB</th>\n",
       "      <th>ARICD</th>\n",
       "      <th>ARICP</th>\n",
       "      <th>ARICV</th>\n",
       "      <th>ARTCB</th>\n",
       "      <th>ARTCD</th>\n",
       "      <th>ARTCP</th>\n",
       "      <th>ARTCV</th>\n",
       "      <th>...</th>\n",
       "      <th>WWTXB</th>\n",
       "      <th>WWTXD</th>\n",
       "      <th>WWTXV</th>\n",
       "      <th>WXICB</th>\n",
       "      <th>WXICD</th>\n",
       "      <th>WXICP</th>\n",
       "      <th>WXICV</th>\n",
       "      <th>WYEGB</th>\n",
       "      <th>WYEGP</th>\n",
       "      <th>WYTCB</th>\n",
       "    </tr>\n",
       "    <tr>\n",
       "      <th>StateCode</th>\n",
       "      <th>Year</th>\n",
       "      <th></th>\n",
       "      <th></th>\n",
       "      <th></th>\n",
       "      <th></th>\n",
       "      <th></th>\n",
       "      <th></th>\n",
       "      <th></th>\n",
       "      <th></th>\n",
       "      <th></th>\n",
       "      <th></th>\n",
       "      <th></th>\n",
       "      <th></th>\n",
       "      <th></th>\n",
       "      <th></th>\n",
       "      <th></th>\n",
       "      <th></th>\n",
       "      <th></th>\n",
       "      <th></th>\n",
       "      <th></th>\n",
       "      <th></th>\n",
       "      <th></th>\n",
       "    </tr>\n",
       "  </thead>\n",
       "  <tbody>\n",
       "    <tr>\n",
       "      <th rowspan=\"5\" valign=\"top\">AZ</th>\n",
       "      <th>1960</th>\n",
       "      <td>0.0</td>\n",
       "      <td>0.0</td>\n",
       "      <td>5726.26021</td>\n",
       "      <td>NaN</td>\n",
       "      <td>862.90841</td>\n",
       "      <td>NaN</td>\n",
       "      <td>5726.26021</td>\n",
       "      <td>NaN</td>\n",
       "      <td>862.90841</td>\n",
       "      <td>NaN</td>\n",
       "      <td>...</td>\n",
       "      <td>3819.24697</td>\n",
       "      <td>NaN</td>\n",
       "      <td>NaN</td>\n",
       "      <td>0.0</td>\n",
       "      <td>NaN</td>\n",
       "      <td>0.0</td>\n",
       "      <td>NaN</td>\n",
       "      <td>0.0</td>\n",
       "      <td>0.0</td>\n",
       "      <td>0.0</td>\n",
       "    </tr>\n",
       "    <tr>\n",
       "      <th>1961</th>\n",
       "      <td>0.0</td>\n",
       "      <td>0.0</td>\n",
       "      <td>6274.82747</td>\n",
       "      <td>NaN</td>\n",
       "      <td>945.57376</td>\n",
       "      <td>NaN</td>\n",
       "      <td>6274.82747</td>\n",
       "      <td>NaN</td>\n",
       "      <td>945.57376</td>\n",
       "      <td>NaN</td>\n",
       "      <td>...</td>\n",
       "      <td>3715.21210</td>\n",
       "      <td>NaN</td>\n",
       "      <td>NaN</td>\n",
       "      <td>0.0</td>\n",
       "      <td>NaN</td>\n",
       "      <td>0.0</td>\n",
       "      <td>NaN</td>\n",
       "      <td>0.0</td>\n",
       "      <td>0.0</td>\n",
       "      <td>0.0</td>\n",
       "    </tr>\n",
       "    <tr>\n",
       "      <th>1962</th>\n",
       "      <td>0.0</td>\n",
       "      <td>0.0</td>\n",
       "      <td>5741.44510</td>\n",
       "      <td>NaN</td>\n",
       "      <td>865.19667</td>\n",
       "      <td>NaN</td>\n",
       "      <td>5741.44510</td>\n",
       "      <td>NaN</td>\n",
       "      <td>865.19667</td>\n",
       "      <td>NaN</td>\n",
       "      <td>...</td>\n",
       "      <td>3628.19694</td>\n",
       "      <td>NaN</td>\n",
       "      <td>NaN</td>\n",
       "      <td>0.0</td>\n",
       "      <td>NaN</td>\n",
       "      <td>0.0</td>\n",
       "      <td>NaN</td>\n",
       "      <td>0.0</td>\n",
       "      <td>0.0</td>\n",
       "      <td>0.0</td>\n",
       "    </tr>\n",
       "    <tr>\n",
       "      <th>1963</th>\n",
       "      <td>0.0</td>\n",
       "      <td>0.0</td>\n",
       "      <td>8193.88866</td>\n",
       "      <td>NaN</td>\n",
       "      <td>1234.76321</td>\n",
       "      <td>NaN</td>\n",
       "      <td>8193.88866</td>\n",
       "      <td>NaN</td>\n",
       "      <td>1234.76321</td>\n",
       "      <td>NaN</td>\n",
       "      <td>...</td>\n",
       "      <td>3937.01824</td>\n",
       "      <td>NaN</td>\n",
       "      <td>NaN</td>\n",
       "      <td>0.0</td>\n",
       "      <td>NaN</td>\n",
       "      <td>0.0</td>\n",
       "      <td>NaN</td>\n",
       "      <td>0.0</td>\n",
       "      <td>0.0</td>\n",
       "      <td>0.0</td>\n",
       "    </tr>\n",
       "    <tr>\n",
       "      <th>1964</th>\n",
       "      <td>0.0</td>\n",
       "      <td>0.0</td>\n",
       "      <td>7749.17493</td>\n",
       "      <td>NaN</td>\n",
       "      <td>1167.74788</td>\n",
       "      <td>NaN</td>\n",
       "      <td>7749.17493</td>\n",
       "      <td>NaN</td>\n",
       "      <td>1167.74788</td>\n",
       "      <td>NaN</td>\n",
       "      <td>...</td>\n",
       "      <td>4057.80989</td>\n",
       "      <td>NaN</td>\n",
       "      <td>NaN</td>\n",
       "      <td>0.0</td>\n",
       "      <td>NaN</td>\n",
       "      <td>0.0</td>\n",
       "      <td>NaN</td>\n",
       "      <td>0.0</td>\n",
       "      <td>0.0</td>\n",
       "      <td>0.0</td>\n",
       "    </tr>\n",
       "  </tbody>\n",
       "</table>\n",
       "<p>5 rows × 583 columns</p>\n",
       "</div>"
      ],
      "text/plain": [
       "MSN             ABICB  ABICP       ARICB  ARICD       ARICP  ARICV  \\\n",
       "StateCode Year                                                       \n",
       "AZ        1960    0.0    0.0  5726.26021    NaN   862.90841    NaN   \n",
       "          1961    0.0    0.0  6274.82747    NaN   945.57376    NaN   \n",
       "          1962    0.0    0.0  5741.44510    NaN   865.19667    NaN   \n",
       "          1963    0.0    0.0  8193.88866    NaN  1234.76321    NaN   \n",
       "          1964    0.0    0.0  7749.17493    NaN  1167.74788    NaN   \n",
       "\n",
       "MSN                  ARTCB  ARTCD       ARTCP  ARTCV  ...       WWTXB  WWTXD  \\\n",
       "StateCode Year                                        ...                      \n",
       "AZ        1960  5726.26021    NaN   862.90841    NaN  ...  3819.24697    NaN   \n",
       "          1961  6274.82747    NaN   945.57376    NaN  ...  3715.21210    NaN   \n",
       "          1962  5741.44510    NaN   865.19667    NaN  ...  3628.19694    NaN   \n",
       "          1963  8193.88866    NaN  1234.76321    NaN  ...  3937.01824    NaN   \n",
       "          1964  7749.17493    NaN  1167.74788    NaN  ...  4057.80989    NaN   \n",
       "\n",
       "MSN             WWTXV  WXICB  WXICD  WXICP  WXICV  WYEGB  WYEGP  WYTCB  \n",
       "StateCode Year                                                          \n",
       "AZ        1960    NaN    0.0    NaN    0.0    NaN    0.0    0.0    0.0  \n",
       "          1961    NaN    0.0    NaN    0.0    NaN    0.0    0.0    0.0  \n",
       "          1962    NaN    0.0    NaN    0.0    NaN    0.0    0.0    0.0  \n",
       "          1963    NaN    0.0    NaN    0.0    NaN    0.0    0.0    0.0  \n",
       "          1964    NaN    0.0    NaN    0.0    NaN    0.0    0.0    0.0  \n",
       "\n",
       "[5 rows x 583 columns]"
      ]
     },
     "execution_count": 6,
     "metadata": {},
     "output_type": "execute_result"
    }
   ],
   "source": [
    "dfp.head()\n"
   ]
  },
  {
   "cell_type": "code",
   "execution_count": 7,
   "metadata": {},
   "outputs": [
    {
     "data": {
      "text/plain": [
       "Index(['ABICB', 'ABICP', 'ARICB', 'ARICD', 'ARICP', 'ARICV', 'ARTCB', 'ARTCD',\n",
       "       'ARTCP', 'ARTCV',\n",
       "       ...\n",
       "       'WWTXB', 'WWTXD', 'WWTXV', 'WXICB', 'WXICD', 'WXICP', 'WXICV', 'WYEGB',\n",
       "       'WYEGP', 'WYTCB'],\n",
       "      dtype='object', name='MSN', length=583)"
      ]
     },
     "execution_count": 7,
     "metadata": {},
     "output_type": "execute_result"
    }
   ],
   "source": [
    "dfp.columns"
   ]
  },
  {
   "cell_type": "code",
   "execution_count": 8,
   "metadata": {},
   "outputs": [
    {
     "data": {
      "text/plain": [
       "<bound method DataFrame.info of MSN                  ABICB      ABICP         ARICB    ARICD        ARICP  \\\n",
       "StateCode Year                                                              \n",
       "AZ        1960     0.00000    0.00000    5726.26021      NaN    862.90841   \n",
       "          1961     0.00000    0.00000    6274.82747      NaN    945.57376   \n",
       "          1962     0.00000    0.00000    5741.44510      NaN    865.19667   \n",
       "          1963     0.00000    0.00000    8193.88866      NaN   1234.76321   \n",
       "          1964     0.00000    0.00000    7749.17493      NaN   1167.74788   \n",
       "...                    ...        ...           ...      ...          ...   \n",
       "TX        2005  2150.01741  425.91470  114067.50410  5.29769  17189.19592   \n",
       "          2006   163.57711   32.40434  104457.80730  5.73411  15741.08007   \n",
       "          2007   466.45938   92.40479  100464.91340  6.15972  15139.37815   \n",
       "          2008    25.97665    5.14593   71106.86146  6.37485  10715.31969   \n",
       "          2009  -220.19169  -43.61959   61348.01050  6.71933   9244.72732   \n",
       "\n",
       "MSN                 ARICV         ARTCB    ARTCD        ARTCP      ARTCV  ...  \\\n",
       "StateCode Year                                                            ...   \n",
       "AZ        1960        NaN    5726.26021      NaN    862.90841        NaN  ...   \n",
       "          1961        NaN    6274.82747      NaN    945.57376        NaN  ...   \n",
       "          1962        NaN    5741.44510      NaN    865.19667        NaN  ...   \n",
       "          1963        NaN    8193.88866      NaN   1234.76321        NaN  ...   \n",
       "          1964        NaN    7749.17493      NaN   1167.74788        NaN  ...   \n",
       "...                   ...           ...      ...          ...        ...  ...   \n",
       "TX        2005  604.29428  114067.50410  5.29769  17189.19592  604.29428  ...   \n",
       "          2006  598.97256  104457.80730  5.73411  15741.08007  598.97256  ...   \n",
       "          2007  618.83574  100464.91340  6.15972  15139.37815  618.83574  ...   \n",
       "          2008  453.29558   71106.86146  6.37485  10715.31969  453.29558  ...   \n",
       "          2009  412.21753   61348.01050  6.71933   9244.72732  412.21753  ...   \n",
       "\n",
       "MSN                   WWTXB     WWTXD      WWTXV       WXICB     WXICD  \\\n",
       "StateCode Year                                                           \n",
       "AZ        1960   3819.24697       NaN        NaN     0.00000       NaN   \n",
       "          1961   3715.21210       NaN        NaN     0.00000       NaN   \n",
       "          1962   3628.19694       NaN        NaN     0.00000       NaN   \n",
       "          1963   3937.01824       NaN        NaN     0.00000       NaN   \n",
       "          1964   4057.80989       NaN        NaN     0.00000       NaN   \n",
       "...                     ...       ...        ...         ...       ...   \n",
       "TX        2005  77414.48141  3.353991  186.35183  1804.98886  18.24895   \n",
       "          2006  75383.72350  3.369397  185.88702  1720.09480  23.88228   \n",
       "          2007  80665.23624  3.399955  200.04716  1439.96922  26.70787   \n",
       "          2008  94444.86432  3.829960  276.52372  1259.29004  33.63735   \n",
       "          2009  67699.71032  3.779523  148.17482   803.94942  24.35257   \n",
       "\n",
       "MSN                 WXICP     WXICV         WYEGB       WYEGP         WYTCB  \n",
       "StateCode Year                                                               \n",
       "AZ        1960    0.00000       NaN       0.00000      0.0000       0.00000  \n",
       "          1961    0.00000       NaN       0.00000      0.0000       0.00000  \n",
       "          1962    0.00000       NaN       0.00000      0.0000       0.00000  \n",
       "          1963    0.00000       NaN       0.00000      0.0000       0.00000  \n",
       "          1964    0.00000       NaN       0.00000      0.0000       0.00000  \n",
       "...                   ...       ...           ...         ...           ...  \n",
       "TX        2005  325.98679  32.93915   42367.85279   4237.2090   42367.85279  \n",
       "          2006  310.65465  41.07979   66164.83829   6670.5150   66164.83829  \n",
       "          2007  260.06307  38.45851   89019.08957   9006.3830   89019.08957  \n",
       "          2008  227.43183  42.35918  159881.36380  16225.0217  159881.36380  \n",
       "          2009  145.19585  19.57823  195454.76530  20026.1030  195454.76530  \n",
       "\n",
       "[200 rows x 583 columns]>"
      ]
     },
     "execution_count": 8,
     "metadata": {},
     "output_type": "execute_result"
    }
   ],
   "source": [
    "dfp.info"
   ]
  },
  {
   "cell_type": "code",
   "execution_count": 9,
   "metadata": {},
   "outputs": [
    {
     "data": {
      "text/plain": [
       "(200, 583)"
      ]
     },
     "execution_count": 9,
     "metadata": {},
     "output_type": "execute_result"
    }
   ],
   "source": [
    "dfp.shape"
   ]
  },
  {
   "cell_type": "code",
   "execution_count": 17,
   "metadata": {},
   "outputs": [],
   "source": [
    "dfpt = dfp.T.drop_duplicates().T"
   ]
  },
  {
   "cell_type": "code",
   "execution_count": 18,
   "metadata": {},
   "outputs": [
    {
     "data": {
      "text/plain": [
       "(200, 528)"
      ]
     },
     "execution_count": 18,
     "metadata": {},
     "output_type": "execute_result"
    }
   ],
   "source": [
    "dfpt.shape"
   ]
  },
  {
   "cell_type": "code",
   "execution_count": null,
   "metadata": {},
   "outputs": [],
   "source": [
    "import numpy as np\n",
    "dfp.replace('', np.nan)\n",
    "dfp.replace(0.0, np.nan)\n",
    "dfp_cleaned = dfp.dropna(axis=0, how='any')\n",
    "dfp_cleaned.shape"
   ]
  },
  {
   "cell_type": "code",
   "execution_count": null,
   "metadata": {},
   "outputs": [],
   "source": [
    "az_dfpc = dfp_cleaned[dfp_cleaned.index.isin(['AZ'], level=0)]\n",
    "\n",
    "\n",
    "az_dfpc.shape\n"
   ]
  },
  {
   "cell_type": "code",
   "execution_count": null,
   "metadata": {},
   "outputs": [],
   "source": [
    "az_dfpc.columns"
   ]
  },
  {
   "cell_type": "code",
   "execution_count": null,
   "metadata": {},
   "outputs": [],
   "source": [
    "az_dfpc.head"
   ]
  },
  {
   "cell_type": "code",
   "execution_count": null,
   "metadata": {},
   "outputs": [],
   "source": [
    "scaler = StandardScaler()\n",
    "scaler.fit(az_dfpc)\n",
    "az_dfpc_scaled = scaler.transform(az_dfpc)\n",
    "print(az_dfpc_scaled.shape)\n",
    "az_dfpc_scaled[0:5][0:2]"
   ]
  },
  {
   "cell_type": "code",
   "execution_count": null,
   "metadata": {},
   "outputs": [],
   "source": [
    "principal=PCA(n_components=3)\n",
    "principal.fit(az_dfpc_scaled)\n",
    "x = principal.transform(az_dfpc_scaled)\n",
    "x.shape"
   ]
  },
  {
   "cell_type": "code",
   "execution_count": null,
   "metadata": {},
   "outputs": [],
   "source": [
    "x"
   ]
  },
  {
   "cell_type": "code",
   "execution_count": null,
   "metadata": {},
   "outputs": [],
   "source": [
    "principal.components_\n",
    "\n",
    "\n"
   ]
  },
  {
   "cell_type": "code",
   "execution_count": null,
   "metadata": {},
   "outputs": [],
   "source": [
    "# pc_names = [\"PC\"+str(i) for i in list(range(1, 30 + 1))]\n",
    "# pc_names"
   ]
  },
  {
   "cell_type": "code",
   "execution_count": null,
   "metadata": {},
   "outputs": [],
   "source": [
    "plt.figure(figsize=(10,10))\n",
    "plt.scatter(x[:,0],x[:,1],)\n",
    "plt.xlabel('pc1')\n",
    "plt.ylabel('pc2')\n",
    "\n",
    "\n"
   ]
  },
  {
   "cell_type": "code",
   "execution_count": null,
   "metadata": {},
   "outputs": [],
   "source": []
  },
  {
   "cell_type": "code",
   "execution_count": null,
   "metadata": {},
   "outputs": [],
   "source": []
  },
  {
   "cell_type": "code",
   "execution_count": null,
   "metadata": {},
   "outputs": [],
   "source": [
    "import seaborn as sns\n",
    "map= pd.DataFrame(principal.components_,columns=az_dfpc.columns)\n",
    "plt.figure(figsize=(30,6))\n",
    "sns.heatmap(map,cmap='plasma')\n",
    "# sns.set_style('darkgrid')"
   ]
  },
  {
   "cell_type": "code",
   "execution_count": null,
   "metadata": {},
   "outputs": [],
   "source": [
    "print(principal.explained_variance_ratio_)"
   ]
  },
  {
   "cell_type": "code",
   "execution_count": null,
   "metadata": {},
   "outputs": [],
   "source": []
  }
 ],
 "metadata": {
  "interpreter": {
   "hash": "a58b191ad2a25b19fea43b3067475f20bdb1c629ecc23182cd320980facf1bfc"
  },
  "kernelspec": {
   "display_name": "Python 3.9.9 64-bit",
   "language": "python",
   "name": "python3"
  },
  "language_info": {
   "codemirror_mode": {
    "name": "ipython",
    "version": 3
   },
   "file_extension": ".py",
   "mimetype": "text/x-python",
   "name": "python",
   "nbconvert_exporter": "python",
   "pygments_lexer": "ipython3",
   "version": "3.9.9"
  },
  "orig_nbformat": 4
 },
 "nbformat": 4,
 "nbformat_minor": 2
}
